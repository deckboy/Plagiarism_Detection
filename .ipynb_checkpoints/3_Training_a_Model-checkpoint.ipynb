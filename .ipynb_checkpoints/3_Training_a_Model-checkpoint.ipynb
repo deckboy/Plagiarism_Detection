{
 "cells": [
  {
   "cell_type": "markdown",
   "metadata": {},
   "source": [
    "# Plagiarism Detection Model\n",
    "\n",
    "Now that you've created training and test data, you are ready to define and train a model. Your goal in this notebook, will be to train a binary classification model that learns to label an answer file as either plagiarized or not, based on the features you provide the model.\n",
    "\n",
    "This task will be broken down into a few discrete steps:\n",
    "\n",
    "* Upload your data to S3.\n",
    "* Define a binary classification model and a training script.\n",
    "* Train your model and deploy it.\n",
    "* Evaluate your deployed classifier and answer some questions about your approach.\n",
    "\n",
    "To complete this notebook, you'll have to complete all given exercises and answer all the questions in this notebook.\n",
    "> All your tasks will be clearly labeled **EXERCISE** and questions as **QUESTION**.\n",
    "\n",
    "It will be up to you to explore different classification models and decide on a model that gives you the best performance for this dataset.\n",
    "\n",
    "---"
   ]
  },
  {
   "cell_type": "markdown",
   "metadata": {},
   "source": [
    "## Load Data to S3\n",
    "\n",
    "In the last notebook, you should have created two files: a `training.csv` and `test.csv` file with the features and class labels for the given corpus of plagiarized/non-plagiarized text data. \n",
    "\n",
    ">The below cells load in some AWS SageMaker libraries and creates a default bucket. After creating this bucket, you can upload your locally stored data to S3.\n",
    "\n",
    "Save your train and test `.csv` feature files, locally. To do this you can run the second notebook \"2_Plagiarism_Feature_Engineering\" in SageMaker or you can manually upload your files to this notebook using the upload icon in Jupyter Lab. Then you can upload local files to S3 by using `sagemaker_session.upload_data` and pointing directly to where the training data is saved."
   ]
  },
  {
   "cell_type": "code",
   "execution_count": 1,
   "metadata": {},
   "outputs": [],
   "source": [
    "import pandas as pd\n",
    "import boto3\n",
    "import sagemaker"
   ]
  },
  {
   "cell_type": "code",
   "execution_count": 2,
   "metadata": {},
   "outputs": [],
   "source": [
    "\"\"\"\n",
    "DON'T MODIFY ANYTHING IN THIS CELL THAT IS BELOW THIS LINE\n",
    "\"\"\"\n",
    "# session and role\n",
    "sagemaker_session = sagemaker.Session()\n",
    "role = sagemaker.get_execution_role()\n",
    "\n",
    "# create an S3 bucket\n",
    "bucket = sagemaker_session.default_bucket()"
   ]
  },
  {
   "cell_type": "code",
   "execution_count": 3,
   "metadata": {},
   "outputs": [
    {
     "data": {
      "text/plain": [
       "'sagemaker-us-east-1-117240919775'"
      ]
     },
     "execution_count": 3,
     "metadata": {},
     "output_type": "execute_result"
    }
   ],
   "source": [
    "bucket"
   ]
  },
  {
   "cell_type": "markdown",
   "metadata": {},
   "source": [
    "## EXERCISE: Upload your training data to S3\n",
    "\n",
    "Specify the `data_dir` where you've saved your `train.csv` file. Decide on a descriptive `prefix` that defines where your data will be uploaded in the default S3 bucket. Finally, create a pointer to your training data by calling `sagemaker_session.upload_data` and passing in the required parameters. It may help to look at the [Session documentation](https://sagemaker.readthedocs.io/en/stable/session.html#sagemaker.session.Session.upload_data) or previous SageMaker code examples.\n",
    "\n",
    "You are expected to upload your entire directory. Later, the training script will only access the `train.csv` file."
   ]
  },
  {
   "cell_type": "code",
   "execution_count": 4,
   "metadata": {},
   "outputs": [
    {
     "name": "stdout",
     "output_type": "stream",
     "text": [
      "s3://sagemaker-us-east-1-117240919775/training-data\n"
     ]
    }
   ],
   "source": [
    "# should be the name of directory you created to save your features data\n",
    "data_dir = 'plagiarism_data'\n",
    "\n",
    "# set prefix, a descriptive name for a directory  \n",
    "prefix = 'training-data'\n",
    "\n",
    "# upload all data to S3\n",
    "input_data = sagemaker_session.upload_data(path=data_dir, bucket=bucket, key_prefix=prefix)\n",
    "print(input_data)"
   ]
  },
  {
   "cell_type": "code",
   "execution_count": 7,
   "metadata": {},
   "outputs": [
    {
     "data": {
      "text/plain": [
       "'s3://sagemaker-us-east-1-117240919775/training-data'"
      ]
     },
     "execution_count": 7,
     "metadata": {},
     "output_type": "execute_result"
    }
   ],
   "source": [
    "input_data"
   ]
  },
  {
   "cell_type": "markdown",
   "metadata": {},
   "source": [
    "### Test cell\n",
    "\n",
    "Test that your data has been successfully uploaded. The below cell prints out the items in your S3 bucket and will throw an error if it is empty. You should see the contents of your `data_dir` and perhaps some checkpoints. If you see any other files listed, then you may have some old model files that you can delete via the S3 console (though, additional files shouldn't affect the performance of model developed in this notebook)."
   ]
  },
  {
   "cell_type": "code",
   "execution_count": 8,
   "metadata": {},
   "outputs": [
    {
     "name": "stdout",
     "output_type": "stream",
     "text": [
      "sagemaker-pytorch-2019-11-19-22-34-25-950/source/sourcedir.tar.gz\n",
      "sagemaker-pytorch-2019-11-20-00-43-28-890/source/sourcedir.tar.gz\n",
      "sagemaker-pytorch-2019-11-20-01-24-42-852/source/sourcedir.tar.gz\n",
      "sagemaker-pytorch-2019-11-20-01-38-43-177/output/model.tar.gz\n",
      "sagemaker-pytorch-2019-11-20-01-38-43-177/source/sourcedir.tar.gz\n",
      "sagemaker-pytorch-2019-11-20-01-44-31-890/output/model.tar.gz\n",
      "sagemaker-pytorch-2019-11-20-01-44-31-890/source/sourcedir.tar.gz\n",
      "sagemaker-pytorch-2019-11-20-01-49-52-949/output/model.tar.gz\n",
      "sagemaker-pytorch-2019-11-20-01-49-52-949/source/sourcedir.tar.gz\n",
      "sagemaker-pytorch-2019-11-20-01-57-06-728/output/model.tar.gz\n",
      "sagemaker-pytorch-2019-11-20-01-57-06-728/source/sourcedir.tar.gz\n",
      "sagemaker-pytorch-2019-11-20-02-03-00-620/output/model.tar.gz\n",
      "sagemaker-pytorch-2019-11-20-02-03-00-620/source/sourcedir.tar.gz\n",
      "sagemaker/moon-data/train.csv\n",
      "training-data/.ipynb_checkpoints/test-checkpoint.csv\n",
      "training-data/.ipynb_checkpoints/train-checkpoint.csv\n",
      "training-data/test.csv\n",
      "training-data/train.csv\n",
      "Test passed!\n"
     ]
    }
   ],
   "source": [
    "\"\"\"\n",
    "DON'T MODIFY ANYTHING IN THIS CELL THAT IS BELOW THIS LINE\n",
    "\"\"\"\n",
    "# confirm that data is in S3 bucket\n",
    "empty_check = []\n",
    "for obj in boto3.resource('s3').Bucket(bucket).objects.all():\n",
    "    empty_check.append(obj.key)\n",
    "    print(obj.key)\n",
    "\n",
    "assert len(empty_check) !=0, 'S3 bucket is empty.'\n",
    "print('Test passed!')"
   ]
  },
  {
   "cell_type": "markdown",
   "metadata": {},
   "source": [
    "---\n",
    "\n",
    "# Modeling\n",
    "\n",
    "Now that you've uploaded your training data, it's time to define and train a model!\n",
    "\n",
    "The type of model you create is up to you. For a binary classification task, you can choose to go one of three routes:\n",
    "* Use a built-in classification algorithm, like LinearLearner.\n",
    "* Define a custom Scikit-learn classifier, a comparison of models can be found [here](https://scikit-learn.org/stable/auto_examples/classification/plot_classifier_comparison.html).\n",
    "* Define a custom PyTorch neural network classifier. \n",
    "\n",
    "It will be up to you to test out a variety of models and choose the best one. Your project will be graded on the accuracy of your final model. \n",
    " \n",
    "---\n",
    "\n",
    "## EXERCISE: Complete a training script \n",
    "\n",
    "To implement a custom classifier, you'll need to complete a `train.py` script. You've been given the folders `source_sklearn` and `source_pytorch` which hold starting code for a custom Scikit-learn model and a PyTorch model, respectively. Each directory has a `train.py` training script. To complete this project **you only need to complete one of these scripts**; the script that is responsible for training your final model.\n",
    "\n",
    "A typical training script:\n",
    "* Loads training data from a specified directory\n",
    "* Parses any training & model hyperparameters (ex. nodes in a neural network, training epochs, etc.)\n",
    "* Instantiates a model of your design, with any specified hyperparams\n",
    "* Trains that model \n",
    "* Finally, saves the model so that it can be hosted/deployed, later\n",
    "\n",
    "### Defining and training a model\n",
    "Much of the training script code is provided for you. Almost all of your work will be done in the `if __name__ == '__main__':` section. To complete a `train.py` file, you will:\n",
    "1. Import any extra libraries you need\n",
    "2. Define any additional model training hyperparameters using `parser.add_argument`\n",
    "2. Define a model in the `if __name__ == '__main__':` section\n",
    "3. Train the model in that same section\n",
    "\n",
    "Below, you can use `!pygmentize` to display an existing `train.py` file. Read through the code; all of your tasks are marked with `TODO` comments. \n",
    "\n",
    "**Note: If you choose to create a custom PyTorch model, you will be responsible for defining the model in the `model.py` file,** and a `predict.py` file is provided. If you choose to use Scikit-learn, you only need a `train.py` file; you may import a classifier from the `sklearn` library."
   ]
  },
  {
   "cell_type": "code",
   "execution_count": 17,
   "metadata": {},
   "outputs": [
    {
     "name": "stdout",
     "output_type": "stream",
     "text": [
      "Error: cannot read infile: [Errno 2] No such file or directory: 'source_pytorch/train1.py'\n"
     ]
    }
   ],
   "source": [
    "# directory can be changed to: source_sklearn or source_pytorch\n",
    "!pygmentize source_pytorch/train.py"
   ]
  },
  {
   "cell_type": "markdown",
   "metadata": {},
   "source": [
    "### Provided code\n",
    "\n",
    "If you read the code above, you can see that the starter code includes a few things:\n",
    "* Model loading (`model_fn`) and saving code\n",
    "* Getting SageMaker's default hyperparameters\n",
    "* Loading the training data by name, `train.csv` and extracting the features and labels, `train_x`, and `train_y`\n",
    "\n",
    "If you'd like to read more about model saving with [joblib for sklearn](https://scikit-learn.org/stable/modules/model_persistence.html) or with [torch.save](https://pytorch.org/tutorials/beginner/saving_loading_models.html), click on the provided links."
   ]
  },
  {
   "cell_type": "markdown",
   "metadata": {},
   "source": [
    "---\n",
    "# Create an Estimator\n",
    "\n",
    "When a custom model is constructed in SageMaker, an entry point must be specified. This is the Python file which will be executed when the model is trained; the `train.py` function you specified above. To run a custom training script in SageMaker, construct an estimator, and fill in the appropriate constructor arguments:\n",
    "\n",
    "* **entry_point**: The path to the Python script SageMaker runs for training and prediction.\n",
    "* **source_dir**: The path to the training script directory `source_sklearn` OR `source_pytorch`.\n",
    "* **entry_point**: The path to the Python script SageMaker runs for training and prediction.\n",
    "* **source_dir**: The path to the training script directory `train_sklearn` OR `train_pytorch`.\n",
    "* **entry_point**: The path to the Python script SageMaker runs for training.\n",
    "* **source_dir**: The path to the training script directory `train_sklearn` OR `train_pytorch`.\n",
    "* **role**: Role ARN, which was specified, above.\n",
    "* **train_instance_count**: The number of training instances (should be left at 1).\n",
    "* **train_instance_type**: The type of SageMaker instance for training. Note: Because Scikit-learn does not natively support GPU training, Sagemaker Scikit-learn does not currently support training on GPU instance types.\n",
    "* **sagemaker_session**: The session used to train on Sagemaker.\n",
    "* **hyperparameters** (optional): A dictionary `{'name':value, ..}` passed to the train function as hyperparameters.\n",
    "\n",
    "Note: For a PyTorch model, there is another optional argument **framework_version**, which you can set to the latest version of PyTorch, `1.0`.\n",
    "\n",
    "## EXERCISE: Define a Scikit-learn or PyTorch estimator\n",
    "\n",
    "To import your desired estimator, use one of the following lines:\n",
    "```\n",
    "from sagemaker.sklearn.estimator import SKLearn\n",
    "```\n",
    "```\n",
    "from sagemaker.pytorch import PyTorch\n",
    "```"
   ]
  },
  {
   "cell_type": "code",
   "execution_count": 23,
   "metadata": {},
   "outputs": [],
   "source": [
    "from sagemaker.pytorch import PyTorch\n",
    "# specify an output path\n",
    "# prefix is specified above\n",
    "output_path = 's3://{}/{}'.format(bucket, prefix)\n",
    "\n",
    "# your import and estimator code, here\n",
    "estimator = PyTorch(entry_point=\"train.py\",\n",
    "                    source_dir=\"source_pytorch\",\n",
    "                    role=role,\n",
    "                    framework_version='1.0',\n",
    "                    train_instance_count=1,\n",
    "                    train_instance_type='ml.c4.xlarge',\n",
    "                    output_path=output_path,\n",
    "                    sagemaker_session=sagemaker_session,\n",
    "                    hyperparameters={\n",
    "                        'epochs': 300,\n",
    "                        'input_features':4,\n",
    "                        'hidden_dim': 10\n",
    "                    })"
   ]
  },
  {
   "cell_type": "markdown",
   "metadata": {},
   "source": [
    "## EXERCISE: Train the estimator\n",
    "\n",
    "Train your estimator on the training data stored in S3. This should create a training job that you can monitor in your SageMaker console."
   ]
  },
  {
   "cell_type": "code",
   "execution_count": 24,
   "metadata": {},
   "outputs": [
    {
     "name": "stdout",
     "output_type": "stream",
     "text": [
      "2019-11-20 21:08:51 Starting - Starting the training job........................\n",
      "2019-11-20 21:12:27 Starting - Launching requested ML instances......\n",
      "2019-11-20 21:13:33 Starting - Preparing the instances for training.........\n",
      "2019-11-20 21:15:16 Downloading - Downloading input data\n",
      "2019-11-20 21:15:16 Training - Downloading the training image......\n",
      "2019-11-20 21:16:23 Uploading - Uploading generated training model\u001b[31mbash: cannot set terminal process group (-1): Inappropriate ioctl for device\u001b[0m\n",
      "\u001b[31mbash: no job control in this shell\u001b[0m\n",
      "\u001b[31m2019-11-20 21:16:08,131 sagemaker-containers INFO     Imported framework sagemaker_pytorch_container.training\u001b[0m\n",
      "\u001b[31m2019-11-20 21:16:08,158 sagemaker_pytorch_container.training INFO     Block until all host DNS lookups succeed.\u001b[0m\n",
      "\u001b[31m2019-11-20 21:16:11,173 sagemaker_pytorch_container.training INFO     Invoking user training script.\u001b[0m\n",
      "\u001b[31m2019-11-20 21:16:11,495 sagemaker-containers INFO     Module train does not provide a setup.py. \u001b[0m\n",
      "\u001b[31mGenerating setup.py\u001b[0m\n",
      "\u001b[31m2019-11-20 21:16:11,496 sagemaker-containers INFO     Generating setup.cfg\u001b[0m\n",
      "\u001b[31m2019-11-20 21:16:11,496 sagemaker-containers INFO     Generating MANIFEST.in\u001b[0m\n",
      "\u001b[31m2019-11-20 21:16:11,496 sagemaker-containers INFO     Installing module with the following command:\u001b[0m\n",
      "\u001b[31m/usr/bin/python -m pip install -U . \u001b[0m\n",
      "\u001b[31mProcessing /opt/ml/code\u001b[0m\n",
      "\u001b[31mBuilding wheels for collected packages: train\n",
      "  Running setup.py bdist_wheel for train: started\u001b[0m\n",
      "\u001b[31m  Running setup.py bdist_wheel for train: finished with status 'done'\n",
      "  Stored in directory: /tmp/pip-ephem-wheel-cache-zh74t3hv/wheels/35/24/16/37574d11bf9bde50616c67372a334f94fa8356bc7164af8ca3\u001b[0m\n",
      "\u001b[31mSuccessfully built train\u001b[0m\n",
      "\u001b[31mInstalling collected packages: train\u001b[0m\n",
      "\u001b[31mSuccessfully installed train-1.0.0\u001b[0m\n",
      "\u001b[31mYou are using pip version 18.1, however version 19.3.1 is available.\u001b[0m\n",
      "\u001b[31mYou should consider upgrading via the 'pip install --upgrade pip' command.\u001b[0m\n",
      "\u001b[31m2019-11-20 21:16:13,221 sagemaker-containers INFO     Invoking user script\n",
      "\u001b[0m\n",
      "\u001b[31mTraining Env:\n",
      "\u001b[0m\n",
      "\u001b[31m{\n",
      "    \"additional_framework_parameters\": {},\n",
      "    \"channel_input_dirs\": {\n",
      "        \"train\": \"/opt/ml/input/data/train\"\n",
      "    },\n",
      "    \"current_host\": \"algo-1\",\n",
      "    \"framework_module\": \"sagemaker_pytorch_container.training:main\",\n",
      "    \"hosts\": [\n",
      "        \"algo-1\"\n",
      "    ],\n",
      "    \"hyperparameters\": {\n",
      "        \"hidden_dim\": 10,\n",
      "        \"input_features\": 4,\n",
      "        \"epochs\": 300\n",
      "    },\n",
      "    \"input_config_dir\": \"/opt/ml/input/config\",\n",
      "    \"input_data_config\": {\n",
      "        \"train\": {\n",
      "            \"TrainingInputMode\": \"File\",\n",
      "            \"S3DistributionType\": \"FullyReplicated\",\n",
      "            \"RecordWrapperType\": \"None\"\n",
      "        }\n",
      "    },\n",
      "    \"input_dir\": \"/opt/ml/input\",\n",
      "    \"is_master\": true,\n",
      "    \"job_name\": \"sagemaker-pytorch-2019-11-20-21-08-50-804\",\n",
      "    \"log_level\": 20,\n",
      "    \"master_hostname\": \"algo-1\",\n",
      "    \"model_dir\": \"/opt/ml/model\",\n",
      "    \"module_dir\": \"s3://sagemaker-us-east-1-117240919775/sagemaker-pytorch-2019-11-20-21-08-50-804/source/sourcedir.tar.gz\",\n",
      "    \"module_name\": \"train\",\n",
      "    \"network_interface_name\": \"eth0\",\n",
      "    \"num_cpus\": 4,\n",
      "    \"num_gpus\": 1,\n",
      "    \"output_data_dir\": \"/opt/ml/output/data\",\n",
      "    \"output_dir\": \"/opt/ml/output\",\n",
      "    \"output_intermediate_dir\": \"/opt/ml/output/intermediate\",\n",
      "    \"resource_config\": {\n",
      "        \"current_host\": \"algo-1\",\n",
      "        \"hosts\": [\n",
      "            \"algo-1\"\n",
      "        ],\n",
      "        \"network_interface_name\": \"eth0\"\n",
      "    },\n",
      "    \"user_entry_point\": \"train.py\"\u001b[0m\n",
      "\u001b[31m}\n",
      "\u001b[0m\n",
      "\u001b[31mEnvironment variables:\n",
      "\u001b[0m\n",
      "\u001b[31mSM_HOSTS=[\"algo-1\"]\u001b[0m\n",
      "\u001b[31mSM_NETWORK_INTERFACE_NAME=eth0\u001b[0m\n",
      "\u001b[31mSM_HPS={\"epochs\":300,\"hidden_dim\":10,\"input_features\":4}\u001b[0m\n",
      "\u001b[31mSM_USER_ENTRY_POINT=train.py\u001b[0m\n",
      "\u001b[31mSM_FRAMEWORK_PARAMS={}\u001b[0m\n",
      "\u001b[31mSM_RESOURCE_CONFIG={\"current_host\":\"algo-1\",\"hosts\":[\"algo-1\"],\"network_interface_name\":\"eth0\"}\u001b[0m\n",
      "\u001b[31mSM_INPUT_DATA_CONFIG={\"train\":{\"RecordWrapperType\":\"None\",\"S3DistributionType\":\"FullyReplicated\",\"TrainingInputMode\":\"File\"}}\u001b[0m\n",
      "\u001b[31mSM_OUTPUT_DATA_DIR=/opt/ml/output/data\u001b[0m\n",
      "\u001b[31mSM_CHANNELS=[\"train\"]\u001b[0m\n",
      "\u001b[31mSM_CURRENT_HOST=algo-1\u001b[0m\n",
      "\u001b[31mSM_MODULE_NAME=train\u001b[0m\n",
      "\u001b[31mSM_LOG_LEVEL=20\u001b[0m\n",
      "\u001b[31mSM_FRAMEWORK_MODULE=sagemaker_pytorch_container.training:main\u001b[0m\n",
      "\u001b[31mSM_INPUT_DIR=/opt/ml/input\u001b[0m\n",
      "\u001b[31mSM_INPUT_CONFIG_DIR=/opt/ml/input/config\u001b[0m\n",
      "\u001b[31mSM_OUTPUT_DIR=/opt/ml/output\u001b[0m\n",
      "\u001b[31mSM_NUM_CPUS=4\u001b[0m\n",
      "\u001b[31mSM_NUM_GPUS=1\u001b[0m\n",
      "\u001b[31mSM_MODEL_DIR=/opt/ml/model\u001b[0m\n",
      "\u001b[31mSM_MODULE_DIR=s3://sagemaker-us-east-1-117240919775/sagemaker-pytorch-2019-11-20-21-08-50-804/source/sourcedir.tar.gz\u001b[0m\n",
      "\u001b[31mSM_TRAINING_ENV={\"additional_framework_parameters\":{},\"channel_input_dirs\":{\"train\":\"/opt/ml/input/data/train\"},\"current_host\":\"algo-1\",\"framework_module\":\"sagemaker_pytorch_container.training:main\",\"hosts\":[\"algo-1\"],\"hyperparameters\":{\"epochs\":300,\"hidden_dim\":10,\"input_features\":4},\"input_config_dir\":\"/opt/ml/input/config\",\"input_data_config\":{\"train\":{\"RecordWrapperType\":\"None\",\"S3DistributionType\":\"FullyReplicated\",\"TrainingInputMode\":\"File\"}},\"input_dir\":\"/opt/ml/input\",\"is_master\":true,\"job_name\":\"sagemaker-pytorch-2019-11-20-21-08-50-804\",\"log_level\":20,\"master_hostname\":\"algo-1\",\"model_dir\":\"/opt/ml/model\",\"module_dir\":\"s3://sagemaker-us-east-1-117240919775/sagemaker-pytorch-2019-11-20-21-08-50-804/source/sourcedir.tar.gz\",\"module_name\":\"train\",\"network_interface_name\":\"eth0\",\"num_cpus\":4,\"num_gpus\":1,\"output_data_dir\":\"/opt/ml/output/data\",\"output_dir\":\"/opt/ml/output\",\"output_intermediate_dir\":\"/opt/ml/output/intermediate\",\"resource_config\":{\"current_host\":\"algo-1\",\"hosts\":[\"algo-1\"],\"network_interface_name\":\"eth0\"},\"user_entry_point\":\"train.py\"}\u001b[0m\n",
      "\u001b[31mSM_USER_ARGS=[\"--epochs\",\"300\",\"--hidden_dim\",\"10\",\"--input_features\",\"4\"]\u001b[0m\n",
      "\u001b[31mSM_OUTPUT_INTERMEDIATE_DIR=/opt/ml/output/intermediate\u001b[0m\n",
      "\u001b[31mSM_CHANNEL_TRAIN=/opt/ml/input/data/train\u001b[0m\n",
      "\u001b[31mSM_HP_HIDDEN_DIM=10\u001b[0m\n",
      "\u001b[31mSM_HP_INPUT_FEATURES=4\u001b[0m\n",
      "\u001b[31mSM_HP_EPOCHS=300\u001b[0m\n",
      "\u001b[31mPYTHONPATH=/usr/local/bin:/usr/lib/python36.zip:/usr/lib/python3.6:/usr/lib/python3.6/lib-dynload:/usr/local/lib/python3.6/dist-packages:/usr/lib/python3/dist-packages\n",
      "\u001b[0m\n",
      "\u001b[31mInvoking script with the following command:\n",
      "\u001b[0m\n",
      "\u001b[31m/usr/bin/python -m train --epochs 300 --hidden_dim 10 --input_features 4\n",
      "\n",
      "\u001b[0m\n",
      "\u001b[31mUsing device cuda.\u001b[0m\n",
      "\u001b[31mGet train data loader.\u001b[0m\n",
      "\u001b[31mEpoch: 1, Loss: 0.7473150662013462\u001b[0m\n",
      "\u001b[31mEpoch: 2, Loss: 0.7496775048119682\u001b[0m\n",
      "\u001b[31mEpoch: 3, Loss: 0.745353707245418\u001b[0m\n",
      "\u001b[31mEpoch: 4, Loss: 0.7218808957508632\u001b[0m\n",
      "\u001b[31mEpoch: 5, Loss: 0.7185034240995135\u001b[0m\n",
      "\u001b[31mEpoch: 6, Loss: 0.7030882409640721\u001b[0m\n",
      "\u001b[31mEpoch: 7, Loss: 0.6920980044773647\u001b[0m\n",
      "\u001b[31mEpoch: 8, Loss: 0.6879015139171055\u001b[0m\n",
      "\u001b[31mEpoch: 9, Loss: 0.6855371083532061\u001b[0m\n",
      "\u001b[31mEpoch: 10, Loss: 0.6818305424281529\u001b[0m\n",
      "\u001b[31mEpoch: 11, Loss: 0.6889222690037319\u001b[0m\n",
      "\u001b[31mEpoch: 12, Loss: 0.6602167572293963\u001b[0m\n",
      "\u001b[31mEpoch: 13, Loss: 0.6477202347346714\u001b[0m\n",
      "\u001b[31mEpoch: 14, Loss: 0.6480812685830253\u001b[0m\n",
      "\u001b[31mEpoch: 15, Loss: 0.6477600250925336\u001b[0m\n",
      "\u001b[31mEpoch: 16, Loss: 0.6296165074620929\u001b[0m\n",
      "\u001b[31mEpoch: 17, Loss: 0.6281667522021702\u001b[0m\n",
      "\u001b[31mEpoch: 18, Loss: 0.6117726734706334\u001b[0m\n",
      "\u001b[31mEpoch: 19, Loss: 0.6160050886017936\u001b[0m\n",
      "\u001b[31mEpoch: 20, Loss: 0.5985988974571228\u001b[0m\n",
      "\u001b[31mEpoch: 21, Loss: 0.6044883344854627\u001b[0m\n",
      "\u001b[31mEpoch: 22, Loss: 0.5893963575363159\u001b[0m\n",
      "\u001b[31mEpoch: 23, Loss: 0.5713311859539577\u001b[0m\n",
      "\u001b[31mEpoch: 24, Loss: 0.5724803720201764\u001b[0m\n",
      "\u001b[31mEpoch: 25, Loss: 0.593846321105957\u001b[0m\n",
      "\u001b[31mEpoch: 26, Loss: 0.5721322468348912\u001b[0m\n",
      "\u001b[31mEpoch: 27, Loss: 0.5716587943690163\u001b[0m\n",
      "\u001b[31mEpoch: 28, Loss: 0.5491896825177329\u001b[0m\n",
      "\u001b[31mEpoch: 29, Loss: 0.5562861774648938\u001b[0m\n",
      "\u001b[31mEpoch: 30, Loss: 0.5635382533073425\u001b[0m\n",
      "\u001b[31mEpoch: 31, Loss: 0.5434951824801308\u001b[0m\n",
      "\u001b[31mEpoch: 32, Loss: 0.5676914836679187\u001b[0m\n",
      "\u001b[31mEpoch: 33, Loss: 0.5520025065967015\u001b[0m\n",
      "\u001b[31mEpoch: 34, Loss: 0.5506293816225869\u001b[0m\n",
      "\u001b[31mEpoch: 35, Loss: 0.545180584703173\u001b[0m\n",
      "\u001b[31mEpoch: 36, Loss: 0.533892171723502\u001b[0m\n",
      "\u001b[31mEpoch: 37, Loss: 0.563717416354588\u001b[0m\n",
      "\u001b[31mEpoch: 38, Loss: 0.5469399562903813\u001b[0m\n",
      "\u001b[31mEpoch: 39, Loss: 0.5314038736479623\u001b[0m\n",
      "\u001b[31mEpoch: 40, Loss: 0.5303224836077008\u001b[0m\n",
      "\u001b[31mEpoch: 41, Loss: 0.5472301585333688\u001b[0m\n",
      "\u001b[31mEpoch: 42, Loss: 0.5401213722569602\u001b[0m\n",
      "\u001b[31mEpoch: 43, Loss: 0.5174674817493984\u001b[0m\n",
      "\u001b[31mEpoch: 44, Loss: 0.5043636603014809\u001b[0m\n",
      "\u001b[31mEpoch: 45, Loss: 0.5253694866384778\u001b[0m\n",
      "\u001b[31mEpoch: 46, Loss: 0.5299979065145765\u001b[0m\n",
      "\u001b[31mEpoch: 47, Loss: 0.49542191198893953\u001b[0m\n",
      "\u001b[31mEpoch: 48, Loss: 0.5105904596192496\u001b[0m\n",
      "\u001b[31mEpoch: 49, Loss: 0.5150140907083239\u001b[0m\n",
      "\u001b[31mEpoch: 50, Loss: 0.5047570935317448\u001b[0m\n",
      "\u001b[31mEpoch: 51, Loss: 0.513850348336356\u001b[0m\n",
      "\u001b[31mEpoch: 52, Loss: 0.4977016661848341\u001b[0m\n",
      "\u001b[31mEpoch: 53, Loss: 0.5065923248018537\u001b[0m\n",
      "\u001b[31mEpoch: 54, Loss: 0.5013182844434466\u001b[0m\n",
      "\u001b[31mEpoch: 55, Loss: 0.5050035970551627\u001b[0m\n",
      "\u001b[31mEpoch: 56, Loss: 0.5083791741303035\u001b[0m\n",
      "\u001b[31mEpoch: 57, Loss: 0.48377588391304016\u001b[0m\n",
      "\u001b[31mEpoch: 58, Loss: 0.49168742980275837\u001b[0m\n",
      "\u001b[31mEpoch: 59, Loss: 0.49526630129132954\u001b[0m\n",
      "\u001b[31mEpoch: 60, Loss: 0.4582946641104562\u001b[0m\n",
      "\u001b[31mEpoch: 61, Loss: 0.470501857144492\u001b[0m\n",
      "\u001b[31mEpoch: 62, Loss: 0.47939713086400715\u001b[0m\n",
      "\u001b[31mEpoch: 63, Loss: 0.48802274465560913\u001b[0m\n",
      "\u001b[31mEpoch: 64, Loss: 0.47131494539124624\u001b[0m\n",
      "\u001b[31mEpoch: 65, Loss: 0.4795317734990801\u001b[0m\n",
      "\u001b[31mEpoch: 66, Loss: 0.4781548891748701\u001b[0m\n",
      "\u001b[31mEpoch: 67, Loss: 0.4633931687899998\u001b[0m\n",
      "\u001b[31mEpoch: 68, Loss: 0.45958842975752695\u001b[0m\n",
      "\u001b[31mEpoch: 69, Loss: 0.4778232361589159\u001b[0m\n",
      "\u001b[31mEpoch: 70, Loss: 0.4442301903452192\u001b[0m\n",
      "\u001b[31mEpoch: 71, Loss: 0.44116303750446867\u001b[0m\n",
      "\u001b[31mEpoch: 72, Loss: 0.47137466073036194\u001b[0m\n",
      "\u001b[31mEpoch: 73, Loss: 0.45577522260802134\u001b[0m\n",
      "\u001b[31mEpoch: 74, Loss: 0.45786112546920776\u001b[0m\n",
      "\u001b[31mEpoch: 75, Loss: 0.4499916860035488\u001b[0m\n",
      "\u001b[31mEpoch: 76, Loss: 0.4529226081711905\u001b[0m\n",
      "\u001b[31mEpoch: 77, Loss: 0.41808976020131794\u001b[0m\n",
      "\u001b[31mEpoch: 78, Loss: 0.4416798268045698\u001b[0m\n",
      "\u001b[31mEpoch: 79, Loss: 0.4657667023794992\u001b[0m\n",
      "\u001b[31mEpoch: 80, Loss: 0.4481545516422817\u001b[0m\n",
      "\u001b[31mEpoch: 81, Loss: 0.4379381707736424\u001b[0m\n",
      "\u001b[31mEpoch: 82, Loss: 0.44073312623160227\u001b[0m\n",
      "\u001b[31mEpoch: 83, Loss: 0.419373346226556\u001b[0m\n",
      "\u001b[31mEpoch: 84, Loss: 0.4262860119342804\u001b[0m\n",
      "\u001b[31mEpoch: 85, Loss: 0.41587541358811514\u001b[0m\n",
      "\u001b[31mEpoch: 86, Loss: 0.4042346775531769\u001b[0m\n",
      "\u001b[31mEpoch: 87, Loss: 0.4186925802912031\u001b[0m\n",
      "\u001b[31mEpoch: 88, Loss: 0.4310695103236607\u001b[0m\n",
      "\u001b[31mEpoch: 89, Loss: 0.42879184229033335\u001b[0m\n",
      "\u001b[31mEpoch: 90, Loss: 0.3983921706676483\u001b[0m\n",
      "\u001b[31mEpoch: 91, Loss: 0.4357020046029772\u001b[0m\n",
      "\u001b[31mEpoch: 92, Loss: 0.40696469800812857\u001b[0m\n",
      "\u001b[31mEpoch: 93, Loss: 0.41527046476091656\u001b[0m\n",
      "\u001b[31mEpoch: 94, Loss: 0.444083034992218\u001b[0m\n",
      "\u001b[31mEpoch: 95, Loss: 0.4333678313664028\u001b[0m\n",
      "\u001b[31mEpoch: 96, Loss: 0.41931895698819843\u001b[0m\n",
      "\u001b[31mEpoch: 97, Loss: 0.39566050257001606\u001b[0m\n",
      "\u001b[31mEpoch: 98, Loss: 0.42174249035971506\u001b[0m\n",
      "\u001b[31mEpoch: 99, Loss: 0.3929093565259661\u001b[0m\n",
      "\u001b[31mEpoch: 100, Loss: 0.39321202465466093\u001b[0m\n",
      "\u001b[31mEpoch: 101, Loss: 0.4153920497213091\u001b[0m\n",
      "\u001b[31mEpoch: 102, Loss: 0.39018130728176664\u001b[0m\n",
      "\u001b[31mEpoch: 103, Loss: 0.3982239876474653\u001b[0m\n",
      "\u001b[31mEpoch: 104, Loss: 0.40666866302490234\u001b[0m\n",
      "\u001b[31mEpoch: 105, Loss: 0.3796822300979069\u001b[0m\n",
      "\u001b[31mEpoch: 106, Loss: 0.40936886412756784\u001b[0m\n",
      "\u001b[31mEpoch: 107, Loss: 0.39043453335762024\u001b[0m\n",
      "\u001b[31mEpoch: 108, Loss: 0.3771346168858664\u001b[0m\n",
      "\u001b[31mEpoch: 109, Loss: 0.3818940498999187\u001b[0m\n",
      "\u001b[31mEpoch: 110, Loss: 0.39068664823259625\u001b[0m\n",
      "\u001b[31mEpoch: 111, Loss: 0.3995582440069744\u001b[0m\n",
      "\u001b[31mEpoch: 112, Loss: 0.38582966583115713\u001b[0m\n",
      "\u001b[31mEpoch: 113, Loss: 0.3827195976461683\u001b[0m\n",
      "\u001b[31mEpoch: 114, Loss: 0.36353773730141775\u001b[0m\n",
      "\u001b[31mEpoch: 115, Loss: 0.38659012956278666\u001b[0m\n",
      "\u001b[31mEpoch: 116, Loss: 0.4051415409360613\u001b[0m\n",
      "\u001b[31mEpoch: 117, Loss: 0.3802003732749394\u001b[0m\n",
      "\u001b[31mEpoch: 118, Loss: 0.3669381524835314\u001b[0m\n",
      "\u001b[31mEpoch: 119, Loss: 0.35621406350817\u001b[0m\n",
      "\u001b[31mEpoch: 120, Loss: 0.3682982921600342\u001b[0m\n",
      "\u001b[31mEpoch: 121, Loss: 0.3813752212694713\u001b[0m\n",
      "\u001b[31mEpoch: 122, Loss: 0.3576735726424626\u001b[0m\n",
      "\u001b[31mEpoch: 123, Loss: 0.362439044884273\u001b[0m\n",
      "\u001b[31mEpoch: 124, Loss: 0.36129640468529295\u001b[0m\n",
      "\u001b[31mEpoch: 125, Loss: 0.37455959618091583\u001b[0m\n",
      "\u001b[31mEpoch: 126, Loss: 0.3613463171890804\u001b[0m\n",
      "\u001b[31mEpoch: 127, Loss: 0.33827761667115347\u001b[0m\n",
      "\u001b[31mEpoch: 128, Loss: 0.3449877457959311\u001b[0m\n",
      "\u001b[31mEpoch: 129, Loss: 0.3669264188834599\u001b[0m\n",
      "\u001b[31mEpoch: 130, Loss: 0.3560866756098611\u001b[0m\n",
      "\u001b[31mEpoch: 131, Loss: 0.3630647339991161\u001b[0m\n",
      "\u001b[31mEpoch: 132, Loss: 0.33929372472422464\u001b[0m\n",
      "\u001b[31mEpoch: 133, Loss: 0.34628007667405264\u001b[0m\n",
      "\u001b[31mEpoch: 134, Loss: 0.34738211759499144\u001b[0m\n",
      "\u001b[31mEpoch: 135, Loss: 0.36414510011672974\u001b[0m\n",
      "\u001b[31mEpoch: 136, Loss: 0.37942683696746826\u001b[0m\n",
      "\u001b[31mEpoch: 137, Loss: 0.36361154701028553\u001b[0m\n",
      "\u001b[31mEpoch: 138, Loss: 0.3440429057393755\u001b[0m\n",
      "\u001b[31mEpoch: 139, Loss: 0.35381213469164713\u001b[0m\n",
      "\u001b[31mEpoch: 140, Loss: 0.35005577972957064\u001b[0m\n",
      "\u001b[31mEpoch: 141, Loss: 0.3399647921323776\u001b[0m\n",
      "\u001b[31mEpoch: 142, Loss: 0.30951644267354694\u001b[0m\n",
      "\u001b[31mEpoch: 143, Loss: 0.3664371371269226\u001b[0m\n",
      "\u001b[31mEpoch: 144, Loss: 0.35323914672647205\u001b[0m\n",
      "\u001b[31mEpoch: 145, Loss: 0.34159110486507416\u001b[0m\n",
      "\u001b[31mEpoch: 146, Loss: 0.3366478362253734\u001b[0m\n",
      "\u001b[31mEpoch: 147, Loss: 0.34001668649060385\u001b[0m\n",
      "\u001b[31mEpoch: 148, Loss: 0.3102513211114066\u001b[0m\n",
      "\u001b[31mEpoch: 149, Loss: 0.3201302545411246\u001b[0m\n",
      "\u001b[31mEpoch: 150, Loss: 0.3043317752225058\u001b[0m\n",
      "\u001b[31mEpoch: 151, Loss: 0.31025474837848116\u001b[0m\n",
      "\u001b[31mEpoch: 152, Loss: 0.3174123082842146\u001b[0m\n",
      "\u001b[31mEpoch: 153, Loss: 0.3636857398918697\u001b[0m\n",
      "\u001b[31mEpoch: 154, Loss: 0.33459979721478056\u001b[0m\n",
      "\u001b[31mEpoch: 155, Loss: 0.312610570873533\u001b[0m\n",
      "\u001b[31mEpoch: 156, Loss: 0.33492881272520336\u001b[0m\n",
      "\u001b[31mEpoch: 157, Loss: 0.3202862058367048\u001b[0m\n",
      "\u001b[31mEpoch: 158, Loss: 0.3321847894362041\u001b[0m\n",
      "\u001b[31mEpoch: 159, Loss: 0.35582636083875385\u001b[0m\n",
      "\u001b[31mEpoch: 160, Loss: 0.3127459096057074\u001b[0m\n",
      "\u001b[31mEpoch: 161, Loss: 0.33854930315698895\u001b[0m\n",
      "\u001b[31mEpoch: 162, Loss: 0.3131127229758671\u001b[0m\n",
      "\u001b[31mEpoch: 163, Loss: 0.30038476628916605\u001b[0m\n",
      "\u001b[31mEpoch: 164, Loss: 0.3217832829271044\u001b[0m\n",
      "\u001b[31mEpoch: 165, Loss: 0.35594320722988676\u001b[0m\n",
      "\u001b[31mEpoch: 166, Loss: 0.3352368623018265\u001b[0m\n",
      "\u001b[31mEpoch: 167, Loss: 0.32111046995435444\u001b[0m\n",
      "\u001b[31mEpoch: 168, Loss: 0.295158143554415\u001b[0m\n",
      "\u001b[31mEpoch: 169, Loss: 0.32165048164980753\u001b[0m\n",
      "\u001b[31mEpoch: 170, Loss: 0.3015938401222229\u001b[0m\n",
      "\u001b[31mEpoch: 171, Loss: 0.31581338388579233\u001b[0m\n",
      "\u001b[31mEpoch: 172, Loss: 0.3003478337611471\u001b[0m\n",
      "\u001b[31mEpoch: 173, Loss: 0.31941420265606474\u001b[0m\n",
      "\u001b[31mEpoch: 174, Loss: 0.3217511943408421\u001b[0m\n",
      "\u001b[31mEpoch: 175, Loss: 0.2983868888446263\u001b[0m\n",
      "\u001b[31mEpoch: 176, Loss: 0.3111099771090916\u001b[0m\n",
      "\u001b[31mEpoch: 177, Loss: 0.31728238080229076\u001b[0m\n",
      "\u001b[31mEpoch: 178, Loss: 0.3000754394701549\u001b[0m\n",
      "\u001b[31mEpoch: 179, Loss: 0.31482918347631184\u001b[0m\n",
      "\u001b[31mEpoch: 180, Loss: 0.32028037522520336\u001b[0m\n",
      "\u001b[31mEpoch: 181, Loss: 0.3172441359077181\u001b[0m\n",
      "\u001b[31mEpoch: 182, Loss: 0.31447101703711916\u001b[0m\n",
      "\u001b[31mEpoch: 183, Loss: 0.2751133090683392\u001b[0m\n",
      "\u001b[31mEpoch: 184, Loss: 0.29686813056468964\u001b[0m\n",
      "\u001b[31mEpoch: 185, Loss: 0.3331656924315861\u001b[0m\n",
      "\u001b[31mEpoch: 186, Loss: 0.28806046502930777\u001b[0m\n",
      "\u001b[31mEpoch: 187, Loss: 0.361005038022995\u001b[0m\n",
      "\u001b[31mEpoch: 188, Loss: 0.3154165084872927\u001b[0m\n",
      "\u001b[31mEpoch: 189, Loss: 0.2701852630291666\u001b[0m\n",
      "\u001b[31mEpoch: 190, Loss: 0.30537148245743345\u001b[0m\n",
      "\u001b[31mEpoch: 191, Loss: 0.32461837785584585\u001b[0m\n",
      "\u001b[31mEpoch: 192, Loss: 0.3109171454395567\u001b[0m\n",
      "\u001b[31mEpoch: 193, Loss: 0.3096238800457546\u001b[0m\n",
      "\u001b[31mEpoch: 194, Loss: 0.28946866946560995\u001b[0m\n",
      "\u001b[31mEpoch: 195, Loss: 0.29131349069731577\u001b[0m\n",
      "\u001b[31mEpoch: 196, Loss: 0.31226260108607157\u001b[0m\n",
      "\u001b[31mEpoch: 197, Loss: 0.3127600295203073\u001b[0m\n",
      "\u001b[31mEpoch: 198, Loss: 0.28664525917598177\u001b[0m\n",
      "\u001b[31mEpoch: 199, Loss: 0.2839775873082025\u001b[0m\n",
      "\u001b[31mEpoch: 200, Loss: 0.3315277738230569\u001b[0m\n",
      "\u001b[31mEpoch: 201, Loss: 0.29246870960508076\u001b[0m\n",
      "\u001b[31mEpoch: 202, Loss: 0.27221990696021486\u001b[0m\n",
      "\u001b[31mEpoch: 203, Loss: 0.32602629704134806\u001b[0m\n",
      "\u001b[31mEpoch: 204, Loss: 0.2752869597503117\u001b[0m\n",
      "\u001b[31mEpoch: 205, Loss: 0.2929256388119289\u001b[0m\n",
      "\u001b[31mEpoch: 206, Loss: 0.25380606736455646\u001b[0m\n",
      "\u001b[31mEpoch: 207, Loss: 0.28382045882088797\u001b[0m\n",
      "\u001b[31mEpoch: 208, Loss: 0.2749920849289213\u001b[0m\n",
      "\u001b[31mEpoch: 209, Loss: 0.26341235637664795\u001b[0m\n",
      "\u001b[31mEpoch: 210, Loss: 0.27883772764887127\u001b[0m\n",
      "\u001b[31mEpoch: 211, Loss: 0.295439393392631\u001b[0m\n",
      "\u001b[31mEpoch: 212, Loss: 0.2690646861280714\u001b[0m\n",
      "\u001b[31mEpoch: 213, Loss: 0.2777981885841915\u001b[0m\n",
      "\u001b[31mEpoch: 214, Loss: 0.304646264229502\u001b[0m\n",
      "\u001b[31mEpoch: 215, Loss: 0.25312461384705137\u001b[0m\n",
      "\u001b[31mEpoch: 216, Loss: 0.24886438037667954\u001b[0m\n",
      "\u001b[31mEpoch: 217, Loss: 0.3070349906172071\u001b[0m\n",
      "\u001b[31mEpoch: 218, Loss: 0.25956641350473675\u001b[0m\n",
      "\u001b[31mEpoch: 219, Loss: 0.30577739008835386\u001b[0m\n",
      "\u001b[31mEpoch: 220, Loss: 0.2673403407846178\u001b[0m\n",
      "\u001b[31mEpoch: 221, Loss: 0.28155401242630823\u001b[0m\n",
      "\u001b[31mEpoch: 222, Loss: 0.2623445689678192\u001b[0m\n",
      "\u001b[31mEpoch: 223, Loss: 0.27474087263856617\u001b[0m\n",
      "\u001b[31mEpoch: 224, Loss: 0.2556184892143522\u001b[0m\n",
      "\u001b[31mEpoch: 225, Loss: 0.2763368104185377\u001b[0m\n",
      "\u001b[31mEpoch: 226, Loss: 0.2959552449839456\u001b[0m\n",
      "\u001b[31mEpoch: 227, Loss: 0.27762540536267416\u001b[0m\n",
      "\u001b[31mEpoch: 228, Loss: 0.30083141795226503\u001b[0m\n",
      "\u001b[31mEpoch: 229, Loss: 0.32515388301440645\u001b[0m\n",
      "\u001b[31mEpoch: 230, Loss: 0.26171315567834036\u001b[0m\n",
      "\u001b[31mEpoch: 231, Loss: 0.267620535833495\u001b[0m\n",
      "\u001b[31mEpoch: 232, Loss: 0.2752623238733837\u001b[0m\n",
      "\u001b[31mEpoch: 233, Loss: 0.27433363454682486\u001b[0m\n",
      "\u001b[31mEpoch: 234, Loss: 0.27306067517825533\u001b[0m\n",
      "\u001b[31mEpoch: 235, Loss: 0.25440062263182234\u001b[0m\n",
      "\u001b[31mEpoch: 236, Loss: 0.30253989355904715\u001b[0m\n",
      "\u001b[31mEpoch: 237, Loss: 0.28642313182353973\u001b[0m\n",
      "\u001b[31mEpoch: 238, Loss: 0.28334419642175945\u001b[0m\n",
      "\u001b[31mEpoch: 239, Loss: 0.26014470628329683\u001b[0m\n",
      "\u001b[31mEpoch: 240, Loss: 0.25082916234220776\u001b[0m\n",
      "\u001b[31mEpoch: 241, Loss: 0.3118155939238412\u001b[0m\n",
      "\u001b[31mEpoch: 242, Loss: 0.2552896610328129\u001b[0m\n",
      "\u001b[31mEpoch: 243, Loss: 0.2441135517188481\u001b[0m\n",
      "\u001b[31mEpoch: 244, Loss: 0.2629946087087904\u001b[0m\n",
      "\u001b[31mEpoch: 245, Loss: 0.27109204871313913\u001b[0m\n",
      "\u001b[31mEpoch: 246, Loss: 0.26044539575065884\u001b[0m\n",
      "\u001b[31mEpoch: 247, Loss: 0.24626986043793814\u001b[0m\n",
      "\u001b[31mEpoch: 248, Loss: 0.26025786037955967\u001b[0m\n",
      "\u001b[31mEpoch: 249, Loss: 0.2549459987453052\u001b[0m\n",
      "\u001b[31mEpoch: 250, Loss: 0.25550346608672825\u001b[0m\n",
      "\u001b[31mEpoch: 251, Loss: 0.2613267259938376\u001b[0m\n",
      "\u001b[31mEpoch: 252, Loss: 0.2638172635010311\u001b[0m\n",
      "\u001b[31mEpoch: 253, Loss: 0.24241427651473454\u001b[0m\n",
      "\u001b[31mEpoch: 254, Loss: 0.2631681518895285\u001b[0m\n",
      "\u001b[31mEpoch: 255, Loss: 0.28756394663027357\u001b[0m\n",
      "\u001b[31mEpoch: 256, Loss: 0.2797295664037977\u001b[0m\n",
      "\u001b[31mEpoch: 257, Loss: 0.2691395431756973\u001b[0m\n",
      "\u001b[31mEpoch: 258, Loss: 0.2589130103588104\u001b[0m\n",
      "\u001b[31mEpoch: 259, Loss: 0.24449495332581656\u001b[0m\n",
      "\u001b[31mEpoch: 260, Loss: 0.262014097401074\u001b[0m\n",
      "\u001b[31mEpoch: 261, Loss: 0.27254022657871246\u001b[0m\n",
      "\u001b[31mEpoch: 262, Loss: 0.2744712850877217\u001b[0m\n",
      "\u001b[31mEpoch: 263, Loss: 0.23154177623135702\u001b[0m\n",
      "\u001b[31mEpoch: 264, Loss: 0.2715624932731901\u001b[0m\n",
      "\u001b[31mEpoch: 265, Loss: 0.2598817050457001\u001b[0m\n",
      "\u001b[31mEpoch: 266, Loss: 0.299015428338732\u001b[0m\n",
      "\u001b[31mEpoch: 267, Loss: 0.267542333475181\u001b[0m\n",
      "\u001b[31mEpoch: 268, Loss: 0.20498320353882654\u001b[0m\n",
      "\u001b[31mEpoch: 269, Loss: 0.2446366250514984\u001b[0m\n",
      "\u001b[31mEpoch: 270, Loss: 0.2882665608610426\u001b[0m\n",
      "\u001b[31mEpoch: 271, Loss: 0.27449589541980196\u001b[0m\n",
      "\u001b[31mEpoch: 272, Loss: 0.2694911062717438\u001b[0m\n",
      "\u001b[31mEpoch: 273, Loss: 0.24126155887331283\u001b[0m\n",
      "\u001b[31mEpoch: 274, Loss: 0.26125140275274006\u001b[0m\n",
      "\u001b[31mEpoch: 275, Loss: 0.24612403554575785\u001b[0m\n",
      "\u001b[31mEpoch: 276, Loss: 0.2773661602820669\u001b[0m\n",
      "\u001b[31mEpoch: 277, Loss: 0.28307410861764637\u001b[0m\n",
      "\u001b[31mEpoch: 278, Loss: 0.2863712640745299\u001b[0m\n",
      "\u001b[31mEpoch: 279, Loss: 0.23650404385157994\u001b[0m\n",
      "\u001b[31mEpoch: 280, Loss: 0.23249128035136632\u001b[0m\n",
      "\u001b[31mEpoch: 281, Loss: 0.24757866242102214\u001b[0m\n",
      "\u001b[31mEpoch: 282, Loss: 0.2605264186859131\u001b[0m\n",
      "\u001b[31mEpoch: 283, Loss: 0.22946876287460327\u001b[0m\n",
      "\u001b[31mEpoch: 284, Loss: 0.22110748503889358\u001b[0m\n",
      "\u001b[31mEpoch: 285, Loss: 0.23979767944131578\u001b[0m\n",
      "\u001b[31mEpoch: 286, Loss: 0.21892633927719934\u001b[0m\n",
      "\u001b[31mEpoch: 287, Loss: 0.23426992020436696\u001b[0m\n",
      "\u001b[31mEpoch: 288, Loss: 0.2536280368055616\u001b[0m\n",
      "\u001b[31mEpoch: 289, Loss: 0.27017017347472055\u001b[0m\n",
      "\u001b[31mEpoch: 290, Loss: 0.26219692294086727\u001b[0m\n",
      "\u001b[31mEpoch: 291, Loss: 0.24640278411763056\u001b[0m\n",
      "\u001b[31mEpoch: 292, Loss: 0.303400063088962\u001b[0m\n",
      "\u001b[31mEpoch: 293, Loss: 0.22790600572313582\u001b[0m\n",
      "\u001b[31mEpoch: 294, Loss: 0.23641362679856165\u001b[0m\n",
      "\u001b[31mEpoch: 295, Loss: 0.25254126638174057\u001b[0m\n",
      "\u001b[31mEpoch: 296, Loss: 0.2350548314196723\u001b[0m\n",
      "\u001b[31mEpoch: 297, Loss: 0.24257684286151612\u001b[0m\n",
      "\u001b[31mEpoch: 298, Loss: 0.26819360575505663\u001b[0m\n",
      "\u001b[31mEpoch: 299, Loss: 0.24436248626027787\u001b[0m\n",
      "\u001b[31mEpoch: 300, Loss: 0.29755001621586935\u001b[0m\n",
      "\u001b[31m2019-11-20 21:16:21,948 sagemaker-containers INFO     Reporting training SUCCESS\u001b[0m\n",
      "\n",
      "2019-11-20 21:16:28 Completed - Training job completed\n",
      "Training seconds: 91\n",
      "Billable seconds: 91\n",
      "CPU times: user 957 ms, sys: 30.9 ms, total: 988 ms\n",
      "Wall time: 8min 13s\n"
     ]
    }
   ],
   "source": [
    "%%time\n",
    "\n",
    "# Train your estimator on S3 training data\n",
    "estimator.fit({'train': input_data})"
   ]
  },
  {
   "cell_type": "markdown",
   "metadata": {},
   "source": [
    "## EXERCISE: Deploy the trained model\n",
    "\n",
    "After training, deploy your model to create a `predictor`. If you're using a PyTorch model, you'll need to create a trained `PyTorchModel` that accepts the trained `<model>.model_data` as an input parameter and points to the provided `source_pytorch/predict.py` file as an entry point. \n",
    "\n",
    "To deploy a trained model, you'll use `<model>.deploy`, which takes in two arguments:\n",
    "* **initial_instance_count**: The number of deployed instances (1).\n",
    "* **instance_type**: The type of SageMaker instance for deployment.\n",
    "\n",
    "Note: If you run into an instance error, it may be because you chose the wrong training or deployment instance_type. It may help to refer to your previous exercise code to see which types of instances we used."
   ]
  },
  {
   "cell_type": "code",
   "execution_count": 18,
   "metadata": {},
   "outputs": [
    {
     "data": {
      "text/plain": [
       "<sagemaker.pytorch.estimator.PyTorch at 0x7fbdada37048>"
      ]
     },
     "execution_count": 18,
     "metadata": {},
     "output_type": "execute_result"
    }
   ],
   "source": [
    "estimator"
   ]
  },
  {
   "cell_type": "code",
   "execution_count": 33,
   "metadata": {},
   "outputs": [
    {
     "name": "stderr",
     "output_type": "stream",
     "text": [
      "Using already existing model: sagemaker-pytorch-2019-11-20-21-08-50-804\n"
     ]
    },
    {
     "name": "stdout",
     "output_type": "stream",
     "text": [
      "---------------------------------------------------------------------------------------------------------------------------!CPU times: user 594 ms, sys: 48.5 ms, total: 642 ms\n",
      "Wall time: 10min 22s\n"
     ]
    }
   ],
   "source": [
    "%%time\n",
    "\n",
    "# uncomment, if needed\n",
    "from sagemaker.pytorch import PyTorchModel\n",
    "model = PyTorchModel(model_data=estimator.model_data,\n",
    "                     role = role,\n",
    "                     framework_version='1.0',\n",
    "                     entry_point='predict.py',\n",
    "                     source_dir='source_pytorch')\n",
    "\n",
    "# deploy your model to create a predictor\n",
    "predictor = estimator.deploy(initial_instance_count = 1, instance_type = 'ml.t2.medium')"
   ]
  },
  {
   "cell_type": "markdown",
   "metadata": {},
   "source": [
    "---\n",
    "# Evaluating Your Model\n",
    "\n",
    "Once your model is deployed, you can see how it performs when applied to our test data.\n",
    "\n",
    "The provided cell below, reads in the test data, assuming it is stored locally in `data_dir` and named `test.csv`. The labels and features are extracted from the `.csv` file."
   ]
  },
  {
   "cell_type": "code",
   "execution_count": 12,
   "metadata": {},
   "outputs": [],
   "source": [
    "\"\"\"\n",
    "DON'T MODIFY ANYTHING IN THIS CELL THAT IS BELOW THIS LINE\n",
    "\"\"\"\n",
    "import os\n",
    "\n",
    "# read in test data, assuming it is stored locally\n",
    "test_data = pd.read_csv(os.path.join(data_dir, \"test.csv\"), header=None, names=None)\n",
    "\n",
    "# labels are in the first column\n",
    "test_y = test_data.iloc[:,0]\n",
    "test_x = test_data.iloc[:,1:]"
   ]
  },
  {
   "cell_type": "markdown",
   "metadata": {},
   "source": [
    "## EXERCISE: Determine the accuracy of your model\n",
    "\n",
    "Use your deployed `predictor` to generate predicted, class labels for the test data. Compare those to the *true* labels, `test_y`, and calculate the accuracy as a value between 0 and 1.0 that indicates the fraction of test data that your model classified correctly. You may use [sklearn.metrics](https://scikit-learn.org/stable/modules/classes.html#module-sklearn.metrics) for this calculation.\n",
    "\n",
    "**To pass this project, your model should get at least 90% test accuracy.**"
   ]
  },
  {
   "cell_type": "code",
   "execution_count": 19,
   "metadata": {},
   "outputs": [
    {
     "data": {
      "text/plain": [
       "array([[1.        , 0.98469388, 0.92227979, 0.82075472],\n",
       "       [0.76530612, 0.70989761, 0.58965517, 0.62171053],\n",
       "       [0.88444444, 0.52678571, 0.18099548, 0.59745763],\n",
       "       [0.61904762, 0.25      , 0.04324324, 0.42783505],\n",
       "       [0.92      , 0.67567568, 0.3943662 , 0.775     ],\n",
       "       [0.99267399, 0.98529412, 0.9739777 , 0.99305556],\n",
       "       [0.41269841, 0.11290323, 0.        , 0.34666667],\n",
       "       [0.46268657, 0.07      , 0.        , 0.18932039],\n",
       "       [0.58115183, 0.14210526, 0.        , 0.24742268],\n",
       "       [0.58421053, 0.14285714, 0.        , 0.29441624],\n",
       "       [0.56637168, 0.15178571, 0.        , 0.25833333],\n",
       "       [0.48148148, 0.17164179, 0.02290076, 0.27891156],\n",
       "       [0.61979167, 0.2513089 , 0.02659574, 0.34158416],\n",
       "       [0.92173913, 0.84279476, 0.65486726, 0.92941176],\n",
       "       [1.        , 0.98084291, 0.92248062, 1.        ],\n",
       "       [0.86153846, 0.39690722, 0.06282723, 0.50471698],\n",
       "       [0.62616822, 0.465625  , 0.22397476, 0.55855856],\n",
       "       [1.        , 0.99230769, 0.9688716 , 0.99669967],\n",
       "       [0.38383838, 0.07614213, 0.01030928, 0.17874396],\n",
       "       [1.        , 0.98905109, 0.94464945, 0.85467128],\n",
       "       [0.61392405, 0.13375796, 0.        , 0.29834254],\n",
       "       [0.97276265, 0.9375    , 0.83003953, 0.92708333],\n",
       "       [0.96280992, 0.86721992, 0.68907563, 0.90980392],\n",
       "       [0.41525424, 0.10212766, 0.        , 0.17741935],\n",
       "       [0.53218884, 0.1637931 , 0.01746725, 0.24583333]])"
      ]
     },
     "execution_count": 19,
     "metadata": {},
     "output_type": "execute_result"
    }
   ],
   "source": [
    "test_x.values"
   ]
  },
  {
   "cell_type": "code",
   "execution_count": 34,
   "metadata": {},
   "outputs": [
    {
     "ename": "ModelError",
     "evalue": "An error occurred (ModelError) when calling the InvokeEndpoint operation: Received server error (500) from model with message \"<!DOCTYPE HTML PUBLIC \"-//W3C//DTD HTML 3.2 Final//EN\">\n<title>500 Internal Server Error</title>\n<h1>Internal Server Error</h1>\n<p>The server encountered an internal error and was unable to complete your request. Either the server is overloaded or there is an error in the application.</p>\n\". See https://us-east-1.console.aws.amazon.com/cloudwatch/home?region=us-east-1#logEventViewer:group=/aws/sagemaker/Endpoints/sagemaker-pytorch-2019-11-20-21-08-50-804 in account 117240919775 for more information.",
     "output_type": "error",
     "traceback": [
      "\u001b[0;31m---------------------------------------------------------------------------\u001b[0m",
      "\u001b[0;31mModelError\u001b[0m                                Traceback (most recent call last)",
      "\u001b[0;32m<ipython-input-34-f5482d062220>\u001b[0m in \u001b[0;36m<module>\u001b[0;34m()\u001b[0m\n\u001b[1;32m      1\u001b[0m \u001b[0;31m# First: generate predicted, class labels\u001b[0m\u001b[0;34m\u001b[0m\u001b[0;34m\u001b[0m\u001b[0m\n\u001b[0;32m----> 2\u001b[0;31m \u001b[0mtest_y_preds\u001b[0m \u001b[0;34m=\u001b[0m \u001b[0mpredictor\u001b[0m\u001b[0;34m.\u001b[0m\u001b[0mpredict\u001b[0m\u001b[0;34m(\u001b[0m\u001b[0mtest_x\u001b[0m\u001b[0;34m.\u001b[0m\u001b[0mvalues\u001b[0m\u001b[0;34m)\u001b[0m\u001b[0;34m\u001b[0m\u001b[0m\n\u001b[0m\u001b[1;32m      3\u001b[0m \u001b[0;34m\u001b[0m\u001b[0m\n\u001b[1;32m      4\u001b[0m \u001b[0;34m\u001b[0m\u001b[0m\n\u001b[1;32m      5\u001b[0m \"\"\"\n",
      "\u001b[0;32m~/anaconda3/envs/pytorch_p36/lib/python3.6/site-packages/sagemaker/predictor.py\u001b[0m in \u001b[0;36mpredict\u001b[0;34m(self, data, initial_args)\u001b[0m\n\u001b[1;32m     97\u001b[0m \u001b[0;34m\u001b[0m\u001b[0m\n\u001b[1;32m     98\u001b[0m         \u001b[0mrequest_args\u001b[0m \u001b[0;34m=\u001b[0m \u001b[0mself\u001b[0m\u001b[0;34m.\u001b[0m\u001b[0m_create_request_args\u001b[0m\u001b[0;34m(\u001b[0m\u001b[0mdata\u001b[0m\u001b[0;34m,\u001b[0m \u001b[0minitial_args\u001b[0m\u001b[0;34m)\u001b[0m\u001b[0;34m\u001b[0m\u001b[0m\n\u001b[0;32m---> 99\u001b[0;31m         \u001b[0mresponse\u001b[0m \u001b[0;34m=\u001b[0m \u001b[0mself\u001b[0m\u001b[0;34m.\u001b[0m\u001b[0msagemaker_session\u001b[0m\u001b[0;34m.\u001b[0m\u001b[0msagemaker_runtime_client\u001b[0m\u001b[0;34m.\u001b[0m\u001b[0minvoke_endpoint\u001b[0m\u001b[0;34m(\u001b[0m\u001b[0;34m**\u001b[0m\u001b[0mrequest_args\u001b[0m\u001b[0;34m)\u001b[0m\u001b[0;34m\u001b[0m\u001b[0m\n\u001b[0m\u001b[1;32m    100\u001b[0m         \u001b[0;32mreturn\u001b[0m \u001b[0mself\u001b[0m\u001b[0;34m.\u001b[0m\u001b[0m_handle_response\u001b[0m\u001b[0;34m(\u001b[0m\u001b[0mresponse\u001b[0m\u001b[0;34m)\u001b[0m\u001b[0;34m\u001b[0m\u001b[0m\n\u001b[1;32m    101\u001b[0m \u001b[0;34m\u001b[0m\u001b[0m\n",
      "\u001b[0;32m~/anaconda3/envs/pytorch_p36/lib/python3.6/site-packages/botocore/client.py\u001b[0m in \u001b[0;36m_api_call\u001b[0;34m(self, *args, **kwargs)\u001b[0m\n\u001b[1;32m    355\u001b[0m                     \"%s() only accepts keyword arguments.\" % py_operation_name)\n\u001b[1;32m    356\u001b[0m             \u001b[0;31m# The \"self\" in this scope is referring to the BaseClient.\u001b[0m\u001b[0;34m\u001b[0m\u001b[0;34m\u001b[0m\u001b[0m\n\u001b[0;32m--> 357\u001b[0;31m             \u001b[0;32mreturn\u001b[0m \u001b[0mself\u001b[0m\u001b[0;34m.\u001b[0m\u001b[0m_make_api_call\u001b[0m\u001b[0;34m(\u001b[0m\u001b[0moperation_name\u001b[0m\u001b[0;34m,\u001b[0m \u001b[0mkwargs\u001b[0m\u001b[0;34m)\u001b[0m\u001b[0;34m\u001b[0m\u001b[0m\n\u001b[0m\u001b[1;32m    358\u001b[0m \u001b[0;34m\u001b[0m\u001b[0m\n\u001b[1;32m    359\u001b[0m         \u001b[0m_api_call\u001b[0m\u001b[0;34m.\u001b[0m\u001b[0m__name__\u001b[0m \u001b[0;34m=\u001b[0m \u001b[0mstr\u001b[0m\u001b[0;34m(\u001b[0m\u001b[0mpy_operation_name\u001b[0m\u001b[0;34m)\u001b[0m\u001b[0;34m\u001b[0m\u001b[0m\n",
      "\u001b[0;32m~/anaconda3/envs/pytorch_p36/lib/python3.6/site-packages/botocore/client.py\u001b[0m in \u001b[0;36m_make_api_call\u001b[0;34m(self, operation_name, api_params)\u001b[0m\n\u001b[1;32m    659\u001b[0m             \u001b[0merror_code\u001b[0m \u001b[0;34m=\u001b[0m \u001b[0mparsed_response\u001b[0m\u001b[0;34m.\u001b[0m\u001b[0mget\u001b[0m\u001b[0;34m(\u001b[0m\u001b[0;34m\"Error\"\u001b[0m\u001b[0;34m,\u001b[0m \u001b[0;34m{\u001b[0m\u001b[0;34m}\u001b[0m\u001b[0;34m)\u001b[0m\u001b[0;34m.\u001b[0m\u001b[0mget\u001b[0m\u001b[0;34m(\u001b[0m\u001b[0;34m\"Code\"\u001b[0m\u001b[0;34m)\u001b[0m\u001b[0;34m\u001b[0m\u001b[0m\n\u001b[1;32m    660\u001b[0m             \u001b[0merror_class\u001b[0m \u001b[0;34m=\u001b[0m \u001b[0mself\u001b[0m\u001b[0;34m.\u001b[0m\u001b[0mexceptions\u001b[0m\u001b[0;34m.\u001b[0m\u001b[0mfrom_code\u001b[0m\u001b[0;34m(\u001b[0m\u001b[0merror_code\u001b[0m\u001b[0;34m)\u001b[0m\u001b[0;34m\u001b[0m\u001b[0m\n\u001b[0;32m--> 661\u001b[0;31m             \u001b[0;32mraise\u001b[0m \u001b[0merror_class\u001b[0m\u001b[0;34m(\u001b[0m\u001b[0mparsed_response\u001b[0m\u001b[0;34m,\u001b[0m \u001b[0moperation_name\u001b[0m\u001b[0;34m)\u001b[0m\u001b[0;34m\u001b[0m\u001b[0m\n\u001b[0m\u001b[1;32m    662\u001b[0m         \u001b[0;32melse\u001b[0m\u001b[0;34m:\u001b[0m\u001b[0;34m\u001b[0m\u001b[0m\n\u001b[1;32m    663\u001b[0m             \u001b[0;32mreturn\u001b[0m \u001b[0mparsed_response\u001b[0m\u001b[0;34m\u001b[0m\u001b[0m\n",
      "\u001b[0;31mModelError\u001b[0m: An error occurred (ModelError) when calling the InvokeEndpoint operation: Received server error (500) from model with message \"<!DOCTYPE HTML PUBLIC \"-//W3C//DTD HTML 3.2 Final//EN\">\n<title>500 Internal Server Error</title>\n<h1>Internal Server Error</h1>\n<p>The server encountered an internal error and was unable to complete your request. Either the server is overloaded or there is an error in the application.</p>\n\". See https://us-east-1.console.aws.amazon.com/cloudwatch/home?region=us-east-1#logEventViewer:group=/aws/sagemaker/Endpoints/sagemaker-pytorch-2019-11-20-21-08-50-804 in account 117240919775 for more information."
     ]
    }
   ],
   "source": [
    "# First: generate predicted, class labels\n",
    "test_y_preds = predictor.predict(test_x.values)\n",
    "\n",
    "\n",
    "\"\"\"\n",
    "DON'T MODIFY ANYTHING IN THIS CELL THAT IS BELOW THIS LINE\n",
    "\"\"\"\n",
    "# test that your model generates the correct number of labels\n",
    "assert len(test_y_preds)==len(test_y), 'Unexpected number of predictions.'\n",
    "print('Test passed!')"
   ]
  },
  {
   "cell_type": "code",
   "execution_count": null,
   "metadata": {
    "collapsed": true,
    "jupyter": {
     "outputs_hidden": true
    }
   },
   "outputs": [],
   "source": [
    "# Second: calculate the test accuracy\n",
    "# calculate true positives, false positives, true negatives, false negatives\n",
    "tp = np.logical_and(test_y, test_y_preds).sum()\n",
    "fp = np.logical_and(1-test_y, test_y_preds).sum()\n",
    "tn = np.logical_and(1-test_y, 1-test_y_preds).sum()\n",
    "fn = np.logical_and(test_y, 1-test_y_preds).sum()\n",
    "\n",
    "accuracy = None\n",
    "\n",
    "print(accuracy)\n",
    "\n",
    "\n",
    "## print out the array of predicted and true labels, if you want\n",
    "print('\\nPredicted class labels: ')\n",
    "print(test_y_preds)\n",
    "print('\\nTrue class labels: ')\n",
    "print(test_y.values)"
   ]
  },
  {
   "cell_type": "markdown",
   "metadata": {},
   "source": [
    "### Question 1: How many false positives and false negatives did your model produce, if any? And why do you think this is?"
   ]
  },
  {
   "cell_type": "markdown",
   "metadata": {},
   "source": [
    "** Answer**: \n"
   ]
  },
  {
   "cell_type": "markdown",
   "metadata": {},
   "source": [
    "### Question 2: How did you decide on the type of model to use? "
   ]
  },
  {
   "cell_type": "markdown",
   "metadata": {},
   "source": [
    "** Answer**:\n",
    "\n"
   ]
  },
  {
   "cell_type": "markdown",
   "metadata": {},
   "source": [
    "----\n",
    "## EXERCISE: Clean up Resources\n",
    "\n",
    "After you're done evaluating your model, **delete your model endpoint**. You can do this with a call to `.delete_endpoint()`. You need to show, in this notebook, that the endpoint was deleted. Any other resources, you may delete from the AWS console, and you will find more instructions on cleaning up all your resources, below."
   ]
  },
  {
   "cell_type": "code",
   "execution_count": null,
   "metadata": {
    "collapsed": true,
    "jupyter": {
     "outputs_hidden": true
    }
   },
   "outputs": [],
   "source": [
    "# uncomment and fill in the line below!\n",
    "# <name_of_deployed_predictor>.delete_endpoint()\n"
   ]
  },
  {
   "cell_type": "markdown",
   "metadata": {},
   "source": [
    "### Deleting S3 bucket\n",
    "\n",
    "When you are *completely* done with training and testing models, you can also delete your entire S3 bucket. If you do this before you are done training your model, you'll have to recreate your S3 bucket and upload your training data again."
   ]
  },
  {
   "cell_type": "code",
   "execution_count": null,
   "metadata": {
    "collapsed": true,
    "jupyter": {
     "outputs_hidden": true
    }
   },
   "outputs": [],
   "source": [
    "# deleting bucket, uncomment lines below\n",
    "\n",
    "# bucket_to_delete = boto3.resource('s3').Bucket(bucket)\n",
    "# bucket_to_delete.objects.all().delete()"
   ]
  },
  {
   "cell_type": "markdown",
   "metadata": {},
   "source": [
    "### Deleting all your models and instances\n",
    "\n",
    "When you are _completely_ done with this project and do **not** ever want to revisit this notebook, you can choose to delete all of your SageMaker notebook instances and models by following [these instructions](https://docs.aws.amazon.com/sagemaker/latest/dg/ex1-cleanup.html). Before you delete this notebook instance, I recommend at least downloading a copy and saving it, locally."
   ]
  },
  {
   "cell_type": "markdown",
   "metadata": {},
   "source": [
    "---\n",
    "## Further Directions\n",
    "\n",
    "There are many ways to improve or add on to this project to expand your learning or make this more of a unique project for you. A few ideas are listed below:\n",
    "* Train a classifier to predict the *category* (1-3) of plagiarism and not just plagiarized (1) or not (0).\n",
    "* Utilize a different and larger dataset to see if this model can be extended to other types of plagiarism.\n",
    "* Use language or character-level analysis to find different (and more) similarity features.\n",
    "* Write a complete pipeline function that accepts a source text and submitted text file, and classifies the submitted text as plagiarized or not.\n",
    "* Use API Gateway and a lambda function to deploy your model to a web application.\n",
    "\n",
    "These are all just options for extending your work. If you've completed all the exercises in this notebook, you've completed a real-world application, and can proceed to submit your project. Great job!"
   ]
  }
 ],
 "metadata": {
  "kernelspec": {
   "display_name": "conda_pytorch_p36",
   "language": "python",
   "name": "conda_pytorch_p36"
  },
  "language_info": {
   "codemirror_mode": {
    "name": "ipython",
    "version": 3
   },
   "file_extension": ".py",
   "mimetype": "text/x-python",
   "name": "python",
   "nbconvert_exporter": "python",
   "pygments_lexer": "ipython3",
   "version": "3.6.5"
  }
 },
 "nbformat": 4,
 "nbformat_minor": 4
}
